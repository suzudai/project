{
 "cells": [
  {
   "cell_type": "code",
   "execution_count": 87,
   "metadata": {},
   "outputs": [],
   "source": [
    "import requests\n",
    "from bs4 import BeautifulSoup\n",
    "import pandas as pd"
   ]
  },
  {
   "cell_type": "code",
   "execution_count": 88,
   "metadata": {},
   "outputs": [],
   "source": [
    "# urlの取得\n",
    "def url_to_soup(url):\n",
    "    req = requests.get(url)\n",
    "    return BeautifulSoup(req.content, 'html.parser')\n"
   ]
  },
  {
   "cell_type": "code",
   "execution_count": 89,
   "metadata": {},
   "outputs": [],
   "source": [
    "# 各馬のページを取得\n",
    "def horse_page_link(url):\n",
    "    soup = url_to_soup(url)\n",
    "    link_list = [\"https://www.nankankeiba.com/\" + x.get('href') for x in soup.find_all('a', class_='tx-mid tx-low') ]\n",
    "    return link_list"
   ]
  },
  {
   "cell_type": "code",
   "execution_count": 90,
   "metadata": {},
   "outputs": [],
   "source": [
    "a = 0"
   ]
  },
  {
   "cell_type": "code",
   "execution_count": 91,
   "metadata": {},
   "outputs": [],
   "source": [
    "def get_horse_pre_data(url):\n",
    "    link1 = horse_page_link(url)\n",
    "    global a\n",
    "    for i in link1:\n",
    "        df = pd.read_html(i)\n",
    "        df = pd.DataFrame(df[4])\n",
    "        df = df[1:]\n",
    "        df1 = df.drop(['R','レース名', '馬番', '差/事故', '獲得賞金（円）','上3F', 'コーナー通過順', '騎手', '調教師','年月日'], axis = 1)\n",
    "        a  = a + 1\n",
    "        df1.to_csv( str(a) + '.csv')"
   ]
  },
  {
   "cell_type": "code",
   "execution_count": 92,
   "metadata": {},
   "outputs": [],
   "source": [
    "get_horse_pre_data(\"https://www.nankankeiba.com/race_info/2019120620140512.do\")"
   ]
  },
  {
   "cell_type": "code",
   "execution_count": null,
   "metadata": {},
   "outputs": [],
   "source": []
  }
 ],
 "metadata": {
  "kernelspec": {
   "display_name": "Python 3",
   "language": "python",
   "name": "python3"
  },
  "language_info": {
   "codemirror_mode": {
    "name": "ipython",
    "version": 3
   },
   "file_extension": ".py",
   "mimetype": "text/x-python",
   "name": "python",
   "nbconvert_exporter": "python",
   "pygments_lexer": "ipython3",
   "version": "3.7.4"
  }
 },
 "nbformat": 4,
 "nbformat_minor": 2
}
